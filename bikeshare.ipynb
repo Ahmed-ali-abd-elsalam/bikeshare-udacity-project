{
 "cells": [
  {
   "cell_type": "code",
   "execution_count": 4,
   "id": "da57e7fe",
   "metadata": {},
   "outputs": [],
   "source": [
    "import time\n",
    "import pandas as pd\n",
    "import numpy as np\n",
    "\n",
    "CITY_DATA = { 'chicago': 'chicago.csv',\n",
    "              'new york city': 'new_york_city.csv',\n",
    "              'washington': 'washington.csv' }"
   ]
  },
  {
   "cell_type": "code",
   "execution_count": 5,
   "id": "3e51b3d8",
   "metadata": {},
   "outputs": [],
   "source": [
    "def get_filters():\n",
    "    \"\"\"\n",
    "    Asks user to specify a city, month, and day to analyze.\n",
    "\n",
    "    Returns:\n",
    "        (str) city - name of the city to analyze\n",
    "        (str) month - name of the month to filter by, or \"all\" to apply no month filter\n",
    "        (str) day - name of the day of week to filter by, or \"all\" to apply no day filter\n",
    "    \"\"\"\n",
    "    print('Hello! Let\\'s explore some US bikeshare data!')\n",
    "    # get user input for city (chicago, new york city, washington). HINT: Use a while loop to handle invalid inputs\n",
    "    cities = ['chicago','new york city','washington']\n",
    "    city = str(input(\"please enter your requested city :\")).lower().strip()\n",
    "\n",
    "    while(city not in cities):\n",
    "        city = str(input(\"please enter 'chicago','new york city' or'washington' :\")).lower().strip()\n",
    "\n",
    "    # get user input for month (all, january, february, ... , june)\n",
    "    months = [\"all\", \"january\", \"february\", \"march\",\"april\", \"june\"]\n",
    "    month = str(input(\"please enter desired month or all\")).lower().strip()\n",
    "\n",
    "    while(month not in months):\n",
    "        month = str(input(\"please enter a month from january to june :\")).strip().lower()\n",
    "\n",
    "    # get user input for day of week (all, monday, tuesday, ... sunday)\n",
    "    days = [\"all\", \"monday\", \"tuesday\",\"Wednesday\",\"Thursday\",\"friday\",\"saturday\" , \"sunday\"]\n",
    "    day = str(input(\"please enter desired day or all\")).lower().strip().capitalize()\n",
    "\n",
    "    while(day not in days):\n",
    "        day = str(input(\"please enter any weekday :\")).lower().strip().capitalize()\n",
    "\n",
    "    print('-'*40)\n",
    "    return city, month, day\n"
   ]
  },
  {
   "cell_type": "code",
   "execution_count": 6,
   "id": "2f4cfd65",
   "metadata": {},
   "outputs": [],
   "source": [
    "def load_data(city, month, day):\n",
    "    \"\"\"\n",
    "    Loads data for the specified city and filters by month and day if applicable.\n",
    "\n",
    "    Args:\n",
    "        (str) city - name of the city to analyze\n",
    "        (str) month - name of the month to filter by, or \"all\" to apply no month filter\n",
    "        (str) day - name of the day of week to filter by, or \"all\" to apply no day filter\n",
    "    Returns:\n",
    "        df - Pandas DataFrame containing city data filtered by month and day\n",
    "    \"\"\"\n",
    "    df = pd.read_csv(CITY_DATA[city])\n",
    "    df[\"Start Time\"] = pd.to_datetime(df[\"Start Time\"])\n",
    "    df[\"Month\"] = df[\"Start Time\"].dt.month\n",
    "    df[\"day_of_week\"] = df[\"Start Time\"].dt.day_name()\n",
    "\n",
    "\n",
    "    if month != 'all':\n",
    "        # use the index of the months list to get the corresponding int\n",
    "        months = ['january', 'february', 'march', 'april', 'may', 'june']\n",
    "        month = months.index(month)+1\n",
    "    \n",
    "        # filter by month to create the new dataframe\n",
    "        df = df[df['Month']==month]\n",
    "\n",
    "    # filter by day of week if applicable\n",
    "    if day != 'all':\n",
    "        # filter by day of week to create the new dataframe\n",
    "        df = df[df['day_of_week']==day.capitalize()]\n",
    "\n",
    "    return df"
   ]
  },
  {
   "cell_type": "code",
   "execution_count": 7,
   "id": "3328100e",
   "metadata": {},
   "outputs": [],
   "source": [
    "df = load_data(\"chicago\",\"april\",\"friday\")\n",
    "#df = pd.read_csv(\"chicago.csv\")\n",
    "# df.columns\n",
    "# df.head()"
   ]
  },
  {
   "cell_type": "code",
   "execution_count": 22,
   "id": "a4883365",
   "metadata": {},
   "outputs": [],
   "source": [
    "def time_stats(df):\n",
    "    \"\"\"Displays statistics on the most frequent times of travel.\"\"\"\n",
    "\n",
    "    print('\\nCalculating The Most Frequent Times of Travel...\\n')\n",
    "    start_time = time.time()\n",
    "\n",
    "    # display the most common month\n",
    "    print(\"the most common month is {}\".format(df[\"Month\"].mode()[0]))\n",
    "\n",
    "    # display the most common day of week\n",
    "    print(\"the most common day of week is {}\".format(df[\"day_of_week\"].mode()[0]))\n",
    "\n",
    "\n",
    "    # display the most common start hour\n",
    "    print(\"the most common start hour is {}\".format(df[\"Start Time\"].dt.hour.mode()[0]))\n",
    "\n",
    "\n",
    "    print(\"\\nThis took %s seconds.\" % (time.time() - start_time))\n",
    "    print('-'*40)\n"
   ]
  },
  {
   "cell_type": "code",
   "execution_count": 27,
   "id": "75d0bd05",
   "metadata": {},
   "outputs": [
    {
     "name": "stdout",
     "output_type": "stream",
     "text": [
      "\n",
      "Calculating The Most Frequent Times of Travel...\n",
      "\n",
      "the most common month is 4\n",
      "the most common day of week is Friday\n",
      "the most common start hour is 17\n",
      "\n",
      "This took 0.0029997825622558594 seconds.\n",
      "----------------------------------------\n"
     ]
    }
   ],
   "source": [
    "time_stats(df)"
   ]
  },
  {
   "cell_type": "code",
   "execution_count": 40,
   "id": "7c200227",
   "metadata": {},
   "outputs": [],
   "source": [
    "def station_stats(df):\n",
    "    \"\"\"Displays statistics on the most popular stations and trip.\"\"\"\n",
    "\n",
    "    print('\\nCalculating The Most Popular Stations and Trip...\\n')\n",
    "    start_time = time.time()\n",
    "\n",
    "    # display most commonly used start station\n",
    "    print(\"the most commonly used start station is {}\".format(df[\"Start Station\"].mode()[0]))\n",
    "\n",
    "\n",
    "    # display most commonly used end station\n",
    "    print(\"the most commonly used end station is {}\".format(df[\"End Station\"].mode()[0]))\n",
    "\n",
    "\n",
    "    # display most frequent combination of start station and end station trip\n",
    "    print(\"the most frequent combination of start station and end station trip\".format((df[\"Start Station\"]+\" \"+df[\"End Station\"]).mode()[0]))\n",
    "\n",
    "\n",
    "    print(\"\\nThis took %s seconds.\" % (time.time() - start_time))\n",
    "    print('-'*40)"
   ]
  },
  {
   "cell_type": "code",
   "execution_count": 48,
   "id": "b2b0daa0",
   "metadata": {},
   "outputs": [
    {
     "name": "stdout",
     "output_type": "stream",
     "text": [
      "\n",
      "Calculating The Most Popular Stations and Trip...\n",
      "\n",
      "the most commonly used start station is Clinton St & Washington Blvd\n",
      "the most commonly used end station is Streeter Dr & Grand Ave\n",
      "the most frequent combination of start station and end station trip\n",
      "\n",
      "This took 0.00799870491027832 seconds.\n",
      "----------------------------------------\n"
     ]
    }
   ],
   "source": [
    "station_stats(df)"
   ]
  },
  {
   "cell_type": "code",
   "execution_count": 94,
   "id": "5b6b9b9f",
   "metadata": {},
   "outputs": [],
   "source": [
    "def trip_duration_stats(df):\n",
    "    \"\"\"Displays statistics on the total and average trip duration.\"\"\"\n",
    "\n",
    "    print('\\nCalculating Trip Duration...\\n')\n",
    "    start_time = time.time()\n",
    "\n",
    "    # display total travel time\n",
    "    print(\"total trip duration is {} seconds\".format(df[\"Trip Duration\"].sum()))\n",
    "\n",
    "    # display mean travel time\n",
    "    print(\"the mean trip duration time is {}\",(df[\"Trip Duration\"].mean()))\n",
    "\n",
    "    print(\"\\nThis took %s seconds.\" % (time.time() - start_time))\n",
    "    print('-'*40)"
   ]
  },
  {
   "cell_type": "code",
   "execution_count": 95,
   "id": "7964577e",
   "metadata": {},
   "outputs": [
    {
     "name": "stdout",
     "output_type": "stream",
     "text": [
      "\n",
      "Calculating Trip Duration...\n",
      "\n",
      "total trip duration is 5545293 seconds\n",
      "the mean trip duration time is {} 804.9489040499346\n",
      "\n",
      "This took 0.0010004043579101562 seconds.\n",
      "----------------------------------------\n"
     ]
    }
   ],
   "source": [
    "trip_duration_stats(df)"
   ]
  },
  {
   "cell_type": "code",
   "execution_count": 104,
   "id": "4b011aa7",
   "metadata": {},
   "outputs": [],
   "source": [
    "def user_stats(df):\n",
    "    \"\"\"Displays statistics on bikeshare users.\"\"\"\n",
    "\n",
    "    print('\\nCalculating User Stats...\\n')\n",
    "    start_time = time.time()\n",
    "\n",
    "    # Display counts of user types\n",
    "    print(df[\"User Type\"].value_counts())\n",
    "\n",
    "    # Display counts of gender\n",
    "    print(df[\"Gender\"].value_counts())\n",
    "\n",
    "    # Display earliest, most recent, and most common year of birth\n",
    "    print(\"min is {} max is {} common is {}\".format(df[\"Birth Year\"].min(),df[\"Birth Year\"].max(),df[\"Birth Year\"].mode()[0]))\n",
    "\n",
    "\n",
    "    print(\"\\nThis took %s seconds.\" % (time.time() - start_time))\n",
    "    print('-'*40)"
   ]
  },
  {
   "cell_type": "code",
   "execution_count": 105,
   "id": "f83abc87",
   "metadata": {},
   "outputs": [
    {
     "name": "stdout",
     "output_type": "stream",
     "text": [
      "\n",
      "Calculating User Stats...\n",
      "\n",
      "Subscriber    5909\n",
      "Customer       980\n",
      "Name: User Type, dtype: int64\n",
      "Male      4620\n",
      "Female    1293\n",
      "Name: Gender, dtype: int64\n",
      "min is 1899.0 max is 2016.0 common is 1989.0\n",
      "\n",
      "This took 0.004000663757324219 seconds.\n",
      "----------------------------------------\n"
     ]
    }
   ],
   "source": [
    "user_stats(df)"
   ]
  },
  {
   "cell_type": "code",
   "execution_count": 16,
   "id": "f3223d20",
   "metadata": {},
   "outputs": [],
   "source": [
    "def main():\n",
    "    while True:\n",
    "        city, month, day = get_filters()\n",
    "        df = load_data(city, month, day)\n",
    "\n",
    "        time_stats(df)\n",
    "        station_stats(df)\n",
    "        trip_duration_stats(df)\n",
    "        user_stats(df)\n",
    "\n",
    "        restart = input('\\nWould you like to restart? Enter yes or no.\\n')\n",
    "        if restart.lower() != 'yes':\n",
    "            break"
   ]
  },
  {
   "cell_type": "code",
   "execution_count": 17,
   "id": "6b312a16",
   "metadata": {},
   "outputs": [],
   "source": [
    "if __name__ == \"__main__\":\n",
    "\tmain()\n"
   ]
  }
 ],
 "metadata": {
  "kernelspec": {
   "display_name": "Python 3 (ipykernel)",
   "language": "python",
   "name": "python3"
  },
  "language_info": {
   "codemirror_mode": {
    "name": "ipython",
    "version": 3
   },
   "file_extension": ".py",
   "mimetype": "text/x-python",
   "name": "python",
   "nbconvert_exporter": "python",
   "pygments_lexer": "ipython3",
   "version": "3.10.2"
  },
  "vscode": {
   "interpreter": {
    "hash": "369f2c481f4da34e4445cda3fffd2e751bd1c4d706f27375911949ba6bb62e1c"
   }
  }
 },
 "nbformat": 4,
 "nbformat_minor": 5
}
