{
 "cells": [
  {
   "cell_type": "code",
   "execution_count": null,
   "id": "da57e7fe",
   "metadata": {},
   "outputs": [],
   "source": [
    "import time\n",
    "import pandas as pd\n",
    "import numpy as np\n",
    "\n",
    "CITY_DATA = { 'chicago': 'chicago.csv',\n",
    "              'new york city': 'new_york_city.csv',\n",
    "              'washington': 'washington.csv' }"
   ]
  },
  {
   "cell_type": "code",
   "execution_count": null,
   "id": "3e51b3d8",
   "metadata": {},
   "outputs": [],
   "source": [
    "def get_filters():\n",
    "    \"\"\"\n",
    "    Asks user to specify a city, month, and day to analyze.\n",
    "\n",
    "    Returns:\n",
    "        (str) city - name of the city to analyze\n",
    "        (str) month - name of the month to filter by, or \"all\" to apply no month filter\n",
    "        (str) day - name of the day of week to filter by, or \"all\" to apply no day filter\n",
    "    \"\"\"\n",
    "    print('Hello! Let\\'s explore some US bikeshare data!')\n",
    "    # get user input for city (chicago, new york city, washington). HINT: Use a while loop to handle invalid inputs\n",
    "    cities = ['chicago','new york city','washington']\n",
    "    city = str(input(\"please enter your requested city :\")).lower().strip()\n",
    "\n",
    "    while(city not in cities):\n",
    "        city = str(input(\"please enter 'chicago','new york city' or'washington' :\")).lower().strip()\n",
    "\n",
    "    # get user input for month (all, january, february, ... , june)\n",
    "    months = [\"all\", \"january\", \"february\", \"march\",\"april\",\"may\", \"june\"]\n",
    "    month = str(input(\"please enter desired month or all :\")).lower().strip()\n",
    "\n",
    "    while(month not in months):\n",
    "        month = str(input(\"please enter a month from january to june :\")).strip().lower()\n",
    "\n",
    "    # get user input for day of week (all, monday, tuesday, ... sunday)\n",
    "    days = [\"all\", \"monday\", \"tuesday\",\"wednesday\",\"thursday\",\"friday\",\"saturday\" , \"sunday\"]\n",
    "    day = str(input(\"please enter desired day or all :\")).lower().strip()\n",
    "\n",
    "    while(day not in days):\n",
    "        day = str(input(\"please enter any weekday :\")).lower().strip()\n",
    "\n",
    "    print('-'*40)\n",
    "    return city, month, day.capitalize()\n"
   ]
  },
  {
   "cell_type": "code",
   "execution_count": null,
   "id": "2f4cfd65",
   "metadata": {},
   "outputs": [],
   "source": [
    "def load_data(city, month, day):\n",
    "    \"\"\"\n",
    "    Loads data for the specified city and filters by month and day if applicable.\n",
    "\n",
    "    Args:\n",
    "        (str) city - name of the city to analyze\n",
    "        (str) month - name of the month to filter by, or \"all\" to apply no month filter\n",
    "        (str) day - name of the day of week to filter by, or \"all\" to apply no day filter\n",
    "    Returns:\n",
    "        df - Pandas DataFrame containing city data filtered by month and day\n",
    "    \"\"\"\n",
    "    df = pd.read_csv(CITY_DATA[city])\n",
    "    df[\"Start Time\"] = pd.to_datetime(df[\"Start Time\"])\n",
    "    df[\"Month\"] = df[\"Start Time\"].dt.month\n",
    "    df[\"day_of_week\"] = df[\"Start Time\"].dt.day_name()\n",
    "\n",
    "\n",
    "    if month.lower().strip() != 'all':\n",
    "        # use the index of the months list to get the corresponding int\n",
    "        months = ['january', 'february', 'march', 'april', 'may', 'june']\n",
    "        month = months.index(month)+1\n",
    "    \n",
    "        # filter by month to create the new dataframe\n",
    "        df = df[df['Month']==month]\n",
    "\n",
    "    # filter by day of week if applicable\n",
    "    if day.lower().strip() != 'all':\n",
    "        # filter by day of week to create the new dataframe\n",
    "        df = df[df['day_of_week']==day.capitalize()]\n",
    "\n",
    "    return df"
   ]
  },
  {
   "cell_type": "code",
   "execution_count": null,
   "id": "a4883365",
   "metadata": {},
   "outputs": [],
   "source": [
    "def time_stats(df):\n",
    "    \"\"\"Displays statistics on the most frequent times of travel.\"\"\"\n",
    "\n",
    "    print('\\nCalculating The Most Frequent Times of Travel...\\n')\n",
    "    start_time = time.time()\n",
    "\n",
    "    # display the most common month\n",
    "    print(\"the most common month is {}\".format(df[\"Month\"].mode()[0]))\n",
    "\n",
    "    # display the most common day of week\n",
    "    print(\"the most common day of week is {}\".format(df[\"day_of_week\"].mode()[0]))\n",
    "\n",
    "\n",
    "    # display the most common start hour\n",
    "    print(\"the most common start hour is {}\".format(df[\"Start Time\"].dt.hour.mode()[0]))\n",
    "\n",
    "\n",
    "    print(\"\\nThis took %s seconds.\" % (time.time() - start_time))\n",
    "    print('-'*40)\n"
   ]
  },
  {
   "cell_type": "code",
   "execution_count": null,
   "id": "7c200227",
   "metadata": {},
   "outputs": [],
   "source": [
    "def station_stats(df):\n",
    "    \"\"\"Displays statistics on the most popular stations and trip.\"\"\"\n",
    "\n",
    "    print('\\nCalculating The Most Popular Stations and Trip...\\n')\n",
    "    start_time = time.time()\n",
    "\n",
    "    # display most commonly used start station\n",
    "    print(\"the most commonly used start station is {}\".format(df[\"Start Station\"].mode()[0]))\n",
    "\n",
    "\n",
    "    # display most commonly used end station\n",
    "    print(\"the most commonly used end station is {}\".format(df[\"End Station\"].mode()[0]))\n",
    "\n",
    "\n",
    "    # display most frequent combination of start station and end station trip\n",
    "    print(\"the most frequent combination of start station and end station trip ({})\".format((df[\"Start Station\"]+\" \"+df[\"End Station\"]).mode()[0]))\n",
    "\n",
    "\n",
    "    print(\"\\nThis took %s seconds.\" % (time.time() - start_time))\n",
    "    print('-'*40)"
   ]
  },
  {
   "cell_type": "code",
   "execution_count": null,
   "id": "03c4eaca",
   "metadata": {},
   "outputs": [],
   "source": [
    "# df = load_data(\"chicago\",\"all\",\"all\")\n",
    "# station_stats(df)"
   ]
  },
  {
   "cell_type": "code",
   "execution_count": null,
   "id": "5b6b9b9f",
   "metadata": {},
   "outputs": [],
   "source": [
    "def trip_duration_stats(df):\n",
    "    \"\"\"Displays statistics on the total and average trip duration.\"\"\"\n",
    "\n",
    "    print('\\nCalculating Trip Duration...\\n')\n",
    "    start_time = time.time()\n",
    "\n",
    "    # display total travel time\n",
    "    print(\"total trip duration is {} seconds\".format(df[\"Trip Duration\"].sum()))\n",
    "\n",
    "    # display mean travel time\n",
    "    print(\"the mean trip duration time is \",(df[\"Trip Duration\"].mean()))\n",
    "\n",
    "    print(\"\\nThis took %s seconds.\" % (time.time() - start_time))\n",
    "    print('-'*40)"
   ]
  },
  {
   "cell_type": "code",
   "execution_count": null,
   "id": "4b011aa7",
   "metadata": {},
   "outputs": [],
   "source": [
    "def user_stats(df):\n",
    "    \"\"\"Displays statistics on bikeshare users.\"\"\"\n",
    "\n",
    "    print('\\nCalculating User Stats...\\n')\n",
    "    start_time = time.time()\n",
    "\n",
    "    # Display counts of user types\n",
    "    print(df[\"User Type\"].value_counts())\n",
    "\n",
    "    # Display counts of gender\n",
    "    if \"Gender\" in df:\n",
    "        print(df[\"Gender\"].value_counts())\n",
    "    else:\n",
    "        print('Gender stats cannot be calculated because Gender does not appear in the dataframe')\n",
    "\n",
    "    # Display earliest, most recent, and most common year of birth\n",
    "    if \"Birth Year\" in df:\n",
    "        print(\"min is {} max is {} common is {}\".format(df[\"Birth Year\"].min(),df[\"Birth Year\"].max(),df[\"Birth Year\"].mode()[0]))\n",
    "    else:\n",
    "        print(('Birth Year stats cannot be calculated because Birth Year does not appear in the dataframe'))\n",
    "\n",
    "\n",
    "    print(\"\\nThis took %s seconds.\" % (time.time() - start_time))\n",
    "    print('-'*40)"
   ]
  },
  {
   "cell_type": "code",
   "execution_count": null,
   "id": "4ee5f457",
   "metadata": {},
   "outputs": [],
   "source": [
    "def display_rows(df,start):\n",
    "    print(df.iloc[start:start+5])"
   ]
  },
  {
   "cell_type": "code",
   "execution_count": null,
   "id": "f3223d20",
   "metadata": {},
   "outputs": [],
   "source": [
    "def main():\n",
    "    while True:\n",
    "        city, month, day = get_filters()\n",
    "        df = load_data(city, month, day)\n",
    "\n",
    "        time_stats(df)\n",
    "        station_stats(df)\n",
    "        trip_duration_stats(df)\n",
    "        user_stats(df)\n",
    "        view_data = input(\"Would you like to view 5 rows of individual trip data? Enter yes or no?\")\n",
    "        start = 0\n",
    "        while view_data.lower() == \"yes\":\n",
    "            display_rows(df,start)\n",
    "            view_data = input(\"Would you like to view the next 5 rows of data? Enter yes or no?\")\n",
    "            start +=5\n",
    "        restart = input('\\nWould you like to restart? Enter yes or no.\\n')\n",
    "        if restart.lower() != 'yes':\n",
    "            break"
   ]
  },
  {
   "cell_type": "code",
   "execution_count": null,
   "id": "6b312a16",
   "metadata": {},
   "outputs": [],
   "source": [
    "if __name__ == \"__main__\":\n",
    "\tmain()\n"
   ]
  }
 ],
 "metadata": {
  "kernelspec": {
   "display_name": "Python 3 (ipykernel)",
   "language": "python",
   "name": "python3"
  },
  "language_info": {
   "codemirror_mode": {
    "name": "ipython",
    "version": 3
   },
   "file_extension": ".py",
   "mimetype": "text/x-python",
   "name": "python",
   "nbconvert_exporter": "python",
   "pygments_lexer": "ipython3",
   "version": "3.10.2"
  },
  "vscode": {
   "interpreter": {
    "hash": "369f2c481f4da34e4445cda3fffd2e751bd1c4d706f27375911949ba6bb62e1c"
   }
  }
 },
 "nbformat": 4,
 "nbformat_minor": 5
}
